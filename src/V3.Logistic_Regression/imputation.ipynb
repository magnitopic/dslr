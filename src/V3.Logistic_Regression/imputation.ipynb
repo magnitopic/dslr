{
 "cells": [
  {
   "cell_type": "markdown",
   "id": "2396d504-3b23-4b16-8130-e8abf24b6d71",
   "metadata": {},
   "source": [
    "# Imputing the data\n",
    "\n",
    "Since we have missing values in some fields we have to do **Imputation**, we will create substitution values using the k neighbors algorithm (KNN).\n",
    "\n",
    "This must be done after normalization to make sure all data is in the same scale."
   ]
  },
  {
   "cell_type": "code",
   "execution_count": 1,
   "id": "3daca43e-c8b6-43cf-b65f-7853672ef06b",
   "metadata": {},
   "outputs": [],
   "source": [
    "import pandas as pd\n",
    "import numpy as np\n",
    "\n",
    "testSrc = \"../data/dataset_test_norm.csv\"\n",
    "df_test = pd.read_csv(testSrc, index_col=0)"
   ]
  },
  {
   "cell_type": "code",
   "execution_count": 2,
   "id": "c7bfda38-d72a-4c0e-8f9b-781fff0130c3",
   "metadata": {},
   "outputs": [
    {
     "name": "stdout",
     "output_type": "stream",
     "text": [
      "Number of complete rows: 332\n",
      "Number of incomplete rows: 68\n"
     ]
    }
   ],
   "source": [
    "complete_rows = df_test.dropna()\n",
    "incomplete_rows = df_test[df_test.isnull().any(axis=1)]\n",
    "print(\"Number of complete rows:\",len(complete_rows))\n",
    "print(\"Number of incomplete rows:\",len(incomplete_rows))"
   ]
  },
  {
   "cell_type": "markdown",
   "id": "1d6f721b-86d5-430c-a920-2fcf3aafc977",
   "metadata": {},
   "source": [
    "## 1. Euclidean Distance\n",
    "\n",
    "This function returns the **Euclidean Distance** between two rows only in the specified column.\n",
    "\n",
    "$$\n",
    "dist = \\sqrt{\\sum_{i=1}^n (q_i - p_i)^2}\n",
    "$$"
   ]
  },
  {
   "cell_type": "code",
   "execution_count": 3,
   "id": "4783057e-8848-4a15-bd1f-99d367930579",
   "metadata": {},
   "outputs": [],
   "source": [
    "def euclidean_distance(row1, row2, columns):\n",
    "    return np.sqrt(sum((row1[columns] - row2[columns])**2))"
   ]
  },
  {
   "cell_type": "markdown",
   "id": "e2061851-9089-48c3-a70c-46281a8090ce",
   "metadata": {},
   "source": [
    "## 2. Get K Neighbors\n",
    "\n",
    "Finds closest K neighbors for a given row."
   ]
  },
  {
   "cell_type": "code",
   "execution_count": 4,
   "id": "c928cca5-a156-47ce-bb37-faaf246e46df",
   "metadata": {},
   "outputs": [],
   "source": [
    "def get_k_neighbors(target_row, complete_data, columns_to_use, k=5):\n",
    "    distances = []\n",
    "    for idx, row in complete_data.iterrows():\n",
    "        dist = euclidean_distance(target_row, row, columns_to_use)\n",
    "        distances.append((idx, dist))\n",
    "\n",
    "    # Sort by distance and get closest neighbors\n",
    "    distances.sort(key=lambda x: x[1])\n",
    "    return [idx for idx, _ in distances[:k]]"
   ]
  },
  {
   "cell_type": "markdown",
   "id": "de1aef0f-dfc2-4dce-82cc-2913fd516fe1",
   "metadata": {},
   "source": [
    "## 3. Impute Missing Values\n",
    "\n",
    "Imputes missing values using KNN."
   ]
  },
  {
   "cell_type": "code",
   "execution_count": 5,
   "id": "36ca1d4c-bc20-4df8-b409-a07fc1c88a13",
   "metadata": {},
   "outputs": [],
   "source": [
    "def impute_missing_values(df, k=5):\n",
    "    df_imputed = df.copy()\n",
    "    complete_data = df.dropna()\n",
    "\n",
    "    # For each row of missing values\n",
    "    for idx, row in df[df.isnull().any(axis=1)].iterrows():\n",
    "        # Find missing values in row\n",
    "        missing_cols = row[row.isnull()].index\n",
    "\n",
    "        # Find available columns to calculate distance\n",
    "        available_cols = row[row.notnull()].index\n",
    "\n",
    "        # Find closest k neighbours\n",
    "        neighbors_idx = get_k_neighbors(row, complete_data, available_cols, k)\n",
    "\n",
    "        # Impute each missing row with avg of neighbours\n",
    "        for col in missing_cols:\n",
    "            neighbor_values = complete_data.loc[neighbors_idx, col]\n",
    "            df_imputed.loc[idx, col] = neighbor_values.mean()\n",
    "\n",
    "    return df_imputed"
   ]
  },
  {
   "cell_type": "code",
   "execution_count": 6,
   "id": "cc2ac01e-bcce-4717-b12a-304ece8ed680",
   "metadata": {},
   "outputs": [],
   "source": [
    "df_test_imputed = impute_missing_values(df_test, k=5)"
   ]
  },
  {
   "cell_type": "code",
   "execution_count": 7,
   "id": "9dc4fcbf-0c0a-47a5-9dd4-4140466bbbd6",
   "metadata": {},
   "outputs": [
    {
     "name": "stdout",
     "output_type": "stream",
     "text": [
      "Verify no missing values:\n",
      "Arithmancy                       0\n",
      "Herbology                        0\n",
      "Defense Against the Dark Arts    0\n",
      "Divination                       0\n",
      "Muggle Studies                   0\n",
      "Ancient Runes                    0\n",
      "Transfiguration                  0\n",
      "Potions                          0\n",
      "Care of Magical Creatures        0\n",
      "Charms                           0\n",
      "Flying                           0\n",
      "dtype: int64\n",
      "Dataset dimensions: (400, 11)\n"
     ]
    }
   ],
   "source": [
    "print(\"Verify no missing values:\")\n",
    "print(df_test_imputed.isnull().sum())\n",
    "print(\"Dataset dimensions:\", df_test_imputed.shape)"
   ]
  },
  {
   "cell_type": "code",
   "execution_count": 8,
   "id": "ab422591-cd23-4e8f-a181-2795f51cc555",
   "metadata": {},
   "outputs": [],
   "source": [
    "df_test_imputed.to_csv('../data/dataset_test_norm_imputed.csv')"
   ]
  },
  {
   "cell_type": "markdown",
   "id": "8182476c-276f-4a6d-a31a-00efa2ca9703",
   "metadata": {},
   "source": [
    "# Results\n",
    "\n",
    "- The resulting file `dataset_test_norm_imputed.csv` contains 400 complete and normalized registries.\n",
    "- The dataset is ready to be used in the clasification process.\n",
    "- The values where normalized with the same paramaters that where used in the training dataset."
   ]
  }
 ],
 "metadata": {
  "kernelspec": {
   "display_name": "Python 3 (ipykernel)",
   "language": "python",
   "name": "python3"
  },
  "language_info": {
   "codemirror_mode": {
    "name": "ipython",
    "version": 3
   },
   "file_extension": ".py",
   "mimetype": "text/x-python",
   "name": "python",
   "nbconvert_exporter": "python",
   "pygments_lexer": "ipython3",
   "version": "3.10.12"
  }
 },
 "nbformat": 4,
 "nbformat_minor": 5
}
