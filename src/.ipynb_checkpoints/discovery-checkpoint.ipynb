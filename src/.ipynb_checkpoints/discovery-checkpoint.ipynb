{
 "cells": [
  {
   "cell_type": "markdown",
   "id": "e9c08cae-8355-455b-ae09-9936706c06a6",
   "metadata": {},
   "source": [
    "# Data discovery"
   ]
  },
  {
   "cell_type": "code",
   "execution_count": 4,
   "id": "538f81c4-c6b6-4d50-8b9e-6c9ca7deeb6d",
   "metadata": {},
   "outputs": [],
   "source": [
    "import pandas as pd\n",
    "import numpy as np"
   ]
  },
  {
   "cell_type": "code",
   "execution_count": 13,
   "id": "cd35f11e-b85d-4ea4-8746-786816851be5",
   "metadata": {},
   "outputs": [
    {
     "name": "stdout",
     "output_type": "stream",
     "text": [
      "<class 'pandas.core.frame.DataFrame'>\n",
      "Index: 1600 entries, 0 to 1599\n",
      "Data columns (total 18 columns):\n",
      " #   Column                         Non-Null Count  Dtype  \n",
      "---  ------                         --------------  -----  \n",
      " 0   Hogwarts House                 1600 non-null   object \n",
      " 1   First Name                     1600 non-null   object \n",
      " 2   Last Name                      1600 non-null   object \n",
      " 3   Birthday                       1600 non-null   object \n",
      " 4   Best Hand                      1600 non-null   object \n",
      " 5   Arithmancy                     1566 non-null   float64\n",
      " 6   Astronomy                      1568 non-null   float64\n",
      " 7   Herbology                      1567 non-null   float64\n",
      " 8   Defense Against the Dark Arts  1569 non-null   float64\n",
      " 9   Divination                     1561 non-null   float64\n",
      " 10  Muggle Studies                 1565 non-null   float64\n",
      " 11  Ancient Runes                  1565 non-null   float64\n",
      " 12  History of Magic               1557 non-null   float64\n",
      " 13  Transfiguration                1566 non-null   float64\n",
      " 14  Potions                        1570 non-null   float64\n",
      " 15  Care of Magical Creatures      1560 non-null   float64\n",
      " 16  Charms                         1600 non-null   float64\n",
      " 17  Flying                         1600 non-null   float64\n",
      "dtypes: float64(13), object(5)\n",
      "memory usage: 237.5+ KB\n"
     ]
    }
   ],
   "source": [
    "fileSrc = \"../data/dataset_train.csv\"\n",
    "df = pd.read_csv(fileSrc, index_col=0)\n",
    "df.info()"
   ]
  }
 ],
 "metadata": {
  "kernelspec": {
   "display_name": "Python 3 (ipykernel)",
   "language": "python",
   "name": "python3"
  },
  "language_info": {
   "codemirror_mode": {
    "name": "ipython",
    "version": 3
   },
   "file_extension": ".py",
   "mimetype": "text/x-python",
   "name": "python",
   "nbconvert_exporter": "python",
   "pygments_lexer": "ipython3",
   "version": "3.10.12"
  }
 },
 "nbformat": 4,
 "nbformat_minor": 5
}
